{
 "cells": [
  {
   "cell_type": "code",
   "execution_count": 20,
   "metadata": {},
   "outputs": [],
   "source": [
    "#Importamos las librerias necesarias\n",
    "import pandas as pd\n",
    "import pickle\n",
    "import numpy as np\n",
    "from scipy.signal import welch\n",
    "import mne\n",
    "from statistics import mean\n",
    "import pyeeg as pe"
   ]
  },
  {
   "cell_type": "code",
   "execution_count": 26,
   "metadata": {},
   "outputs": [],
   "source": [
    "#Abrimos los datos .dat, y convertimos a un DF\n",
    "band = [.5,4,8,13,30,45]\n",
    "start = 0\n",
    "meta = []\n",
    "\n",
    "with open('datos\\s01.dat', 'rb') as file:\n",
    "    subject = pickle.load(file, encoding='latin1')\n",
    "    for i in range (0,40):\n",
    "        data = subject[\"data\"][i].transpose()\n",
    "        df_dat = pd.DataFrame(data)\n",
    "        df_dat =  df_dat.iloc[:,[1, 17, 7, 25, 12, 30, 14, 32]]\n",
    "        df_dat.columns = ['Fp1', 'Fp2', 'C3', 'C4', 'P7', 'P8', 'O1', 'O2']\n",
    "        labels = subject[\"labels\"][i]\n",
    "        start = 0\n",
    "        while start + 256 < df_dat.shape[1]:\n",
    "            meta_array = []\n",
    "            meta_data = [] #meta vector for analysis\n",
    "            for j in df_dat.columns():\n",
    "                X = df_dat[j][start : start + 256] #Slice raw data over 2 sec, at interval of 0.125 sec\n",
    "                Y = pe.bin_power(X, band, 128) #FFT over 2 sec of channel j, in seq of theta, alpha, low beta, high beta, gamma\n",
    "                meta_data = meta_data + list(Y[0])\n",
    "\n",
    "            meta_array.append(np.array(meta_data))\n",
    "            meta_array.append(labels)\n",
    "\n",
    "            meta.append(np.array(meta_array))    \n",
    "            start = start + 16\n",
    "                \n",
    "    meta = np.array(meta)\n",
    "    np.save('datos', meta, allow_pickle=True, fix_imports=True)"
   ]
  },
  {
   "cell_type": "code",
   "execution_count": 25,
   "metadata": {},
   "outputs": [
    {
     "name": "stdout",
     "output_type": "stream",
     "text": [
      "Extracting EDF parameters from c:\\Users\\migue\\Documents\\GitHub\\NH\\s01.bdf...\n",
      "BDF file detected\n",
      "Setting channel info structure...\n",
      "Creating raw.info structure...\n",
      "Filtering raw data in 1 contiguous segment\n",
      "Setting up band-pass filter from 4 - 45 Hz\n",
      "\n",
      "FIR filter parameters\n",
      "---------------------\n",
      "Designing a one-pass, zero-phase, non-causal bandpass filter:\n",
      "- Windowed time-domain design (firwin) method\n",
      "- Hamming window with 0.0194 passband ripple and 53 dB stopband attenuation\n",
      "- Lower passband edge: 4.00\n",
      "- Lower transition bandwidth: 2.00 Hz (-6 dB cutoff frequency: 3.00 Hz)\n",
      "- Upper passband edge: 45.00 Hz\n",
      "- Upper transition bandwidth: 11.25 Hz (-6 dB cutoff frequency: 50.62 Hz)\n",
      "- Filter length: 213 samples (1.664 sec)\n",
      "\n"
     ]
    },
    {
     "name": "stderr",
     "output_type": "stream",
     "text": [
      "[Parallel(n_jobs=1)]: Using backend SequentialBackend with 1 concurrent workers.\n",
      "[Parallel(n_jobs=1)]: Done   1 out of   1 | elapsed:    0.0s remaining:    0.0s\n",
      "[Parallel(n_jobs=1)]: Done   2 out of   2 | elapsed:    0.0s remaining:    0.0s\n",
      "[Parallel(n_jobs=1)]: Done   3 out of   3 | elapsed:    0.0s remaining:    0.0s\n",
      "[Parallel(n_jobs=1)]: Done   4 out of   4 | elapsed:    0.0s remaining:    0.0s\n"
     ]
    },
    {
     "name": "stdout",
     "output_type": "stream",
     "text": [
      "EEG channel type selected for re-referencing\n",
      "Applying average reference.\n",
      "Applying a custom ('EEG',) reference.\n"
     ]
    },
    {
     "name": "stderr",
     "output_type": "stream",
     "text": [
      "[Parallel(n_jobs=1)]: Done   8 out of   8 | elapsed:    0.1s finished\n"
     ]
    }
   ],
   "source": [
    "#abrimos los datos .bdf y preprocesamos\n",
    "#cargar los datos\n",
    "filepath = 's01.bdf' #cambien a su filepath\n",
    "raw = mne.io.read_raw_bdf(filepath)\n",
    "\n",
    "#elegimos los canales que queramos\n",
    "channels_names=['Fp1', 'Fp2', 'C3','C4', 'P7', 'P8','O1', 'O2']\n",
    "raw.pick_channels(channels_names)\n",
    "raw = raw.resample(128)\n",
    "raw = raw.filter(4,45)\n",
    "raw = raw.set_eeg_reference(ref_channels='average')\n",
    "df_bdf = raw.to_data_frame(picks=list(range(raw.info['nchan'])))\n",
    "df_bdf = df_bdf[['Fp1','Fp2','C3','C4', 'P7','P8','O1','O2']]"
   ]
  }
 ],
 "metadata": {
  "kernelspec": {
   "display_name": "ALAS",
   "language": "python",
   "name": "python3"
  },
  "language_info": {
   "codemirror_mode": {
    "name": "ipython",
    "version": 3
   },
   "file_extension": ".py",
   "mimetype": "text/x-python",
   "name": "python",
   "nbconvert_exporter": "python",
   "pygments_lexer": "ipython3",
   "version": "3.8.10"
  },
  "orig_nbformat": 4
 },
 "nbformat": 4,
 "nbformat_minor": 2
}
